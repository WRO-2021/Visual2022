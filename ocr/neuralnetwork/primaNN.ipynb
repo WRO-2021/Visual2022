{
 "cells": [
  {
   "cell_type": "markdown",
   "metadata": {
    "collapsed": false
   },
   "source": [
    "# Prima prova di neural network"
   ]
  },
  {
   "cell_type": "code",
   "execution_count": 170,
   "metadata": {
    "collapsed": false,
    "ExecuteTime": {
     "start_time": "2023-04-19T23:38:54.320612Z",
     "end_time": "2023-04-19T23:38:54.391907Z"
    }
   },
   "outputs": [],
   "source": [
    "import torch\n",
    "from torch import nn\n",
    "from torch.utils.data import DataLoader, TensorDataset, Dataset\n",
    "#from tqdm.notebook import tqdm, trange\n",
    "from tqdm.auto import tqdm, trange\n",
    "#from tqdm import tqdm, trange\n",
    "import pandas as pd\n",
    "import numpy as np\n",
    "from sklearn.model_selection import train_test_split\n",
    "from skimage.io import imread\n",
    "from copy import deepcopy\n",
    "import matplotlib.pyplot as plt\n",
    "from sklearn import preprocessing\n",
    "import pickle\n",
    "import json\n",
    "import sys\n",
    "import time\n",
    "from importlib import reload\n",
    "import cv2"
   ]
  },
  {
   "cell_type": "code",
   "execution_count": 171,
   "outputs": [],
   "source": [
    "COLOR = True\n",
    "SMALL = False\n",
    "LETTERS_LABEL = ['h', 's', 'u']\n",
    "COLORS_LABEL = ['b', 'g', 'r']"
   ],
   "metadata": {
    "collapsed": false,
    "ExecuteTime": {
     "start_time": "2023-04-19T23:38:54.345909Z",
     "end_time": "2023-04-19T23:38:54.499974Z"
    }
   }
  },
  {
   "cell_type": "markdown",
   "metadata": {
    "collapsed": false
   },
   "source": [
    "Prendo i dati, li leggo e li splitto"
   ]
  },
  {
   "cell_type": "code",
   "execution_count": 172,
   "metadata": {
    "collapsed": false,
    "ExecuteTime": {
     "start_time": "2023-04-19T23:38:54.375910Z",
     "end_time": "2023-04-19T23:38:54.925338Z"
    }
   },
   "outputs": [
    {
     "data": {
      "text/plain": "  0%|          | 0/473 [00:00<?, ?it/s]",
      "application/vnd.jupyter.widget-view+json": {
       "version_major": 2,
       "version_minor": 0,
       "model_id": "0d51e09fb56a472eb0971615325009ba"
      }
     },
     "metadata": {},
     "output_type": "display_data"
    }
   ],
   "source": [
    "with open('../data/images/data.json', 'r') as f:\n",
    "    train = json.load(f)\n",
    "labels = set()\n",
    "train_img = []\n",
    "y = []\n",
    "for img_name, label in tqdm(train.items()):\n",
    "\n",
    "    # addestro le lettere per vedere i colori come none\n",
    "    # idem la nn per i colori, deve vedere le lettere come none\n",
    "    if COLOR and label in LETTERS_LABEL:\n",
    "        label = 'none'\n",
    "    elif not COLOR and label in COLORS_LABEL:\n",
    "        label = 'none'\n",
    "\n",
    "    labels.add(label)\n",
    "\n",
    "\n",
    "    y.append(label)\n",
    "    image_path = '../data/' + str(img_name)\n",
    "    img = imread(image_path, as_gray=not COLOR)\n",
    "    # img = cv2.resize(img, (24, 24))\n",
    "    # converting the type of pixel to float 32\n",
    "    img = img.astype('float32')\n",
    "    train_img.append(img)\n",
    "\n",
    "\n",
    "numLabel = len(labels)\n",
    "# converting the list to numpy array\n",
    "X = np.array(train_img)\n",
    "y = np.array(y)"
   ]
  },
  {
   "attachments": {},
   "cell_type": "markdown",
   "metadata": {},
   "source": [
    "One hot encoding o Label encoding"
   ]
  },
  {
   "cell_type": "code",
   "execution_count": 173,
   "metadata": {
    "ExecuteTime": {
     "start_time": "2023-04-19T23:38:54.928338Z",
     "end_time": "2023-04-19T23:38:54.938288Z"
    }
   },
   "outputs": [],
   "source": [
    "oneHot = False"
   ]
  },
  {
   "cell_type": "code",
   "execution_count": 174,
   "metadata": {
    "ExecuteTime": {
     "start_time": "2023-04-19T23:38:54.941819Z",
     "end_time": "2023-04-19T23:38:54.967328Z"
    }
   },
   "outputs": [
    {
     "name": "stdout",
     "output_type": "stream",
     "text": [
      "['green' 'none' 'red' 'yellow']\n"
     ]
    }
   ],
   "source": [
    "if oneHot:\n",
    "    one = preprocessing.OneHotEncoder()\n",
    "    y = one.fit_transform(y.reshape(-1,1)).toarray()\n",
    "    pickle.dump(one, open(f'saves/oneHotEncoder{\"Color\" if COLOR else \"\"}.pickle', 'wb'))\n",
    "else:\n",
    "    le = preprocessing.LabelEncoder()\n",
    "    y = le.fit_transform(y)\n",
    "    # print the classes\n",
    "    print(le.classes_)\n",
    "    pickle.dump(le, open(f'saves/labelEncoder{\"Color\" if COLOR else \"\"}.pickle', 'wb'))"
   ]
  },
  {
   "cell_type": "code",
   "execution_count": 175,
   "metadata": {
    "collapsed": false,
    "ExecuteTime": {
     "start_time": "2023-04-19T23:38:54.967328Z",
     "end_time": "2023-04-19T23:38:54.982968Z"
    }
   },
   "outputs": [
    {
     "data": {
      "text/plain": "(torch.Size([402, 24, 24, 3]), torch.Size([402]))"
     },
     "execution_count": 175,
     "metadata": {},
     "output_type": "execute_result"
    }
   ],
   "source": [
    "X_train, X_test, y_train, y_test = train_test_split(X, y, random_state=42, test_size=0.15)\n",
    "\n",
    "\n",
    "# converting the target into torch format\n",
    "y_train = y_train.astype(int)\n",
    "y_test = y_test.astype(int)\n",
    "y_train = torch.from_numpy(y_train)\n",
    "y_test = torch.from_numpy(y_test)\n",
    "X_train  = torch.from_numpy(X_train)\n",
    "X_test = torch.from_numpy(X_test)\n",
    "\n",
    "# shape of training data\n",
    "X_train.shape, y_train.shape"
   ]
  },
  {
   "cell_type": "code",
   "execution_count": 176,
   "metadata": {
    "ExecuteTime": {
     "start_time": "2023-04-19T23:38:54.982968Z",
     "end_time": "2023-04-19T23:38:55.050244Z"
    }
   },
   "outputs": [],
   "source": [
    "if COLOR:\n",
    "    # inverto gli assi, l'rgb non e' sui singoli pixel ma diviso in tre canali diversi di immagini con pixel monovalore\n",
    "    X_test = X_test.permute(0, 3, 2, 1)\n",
    "    X_train = X_train.permute(0, 3, 2, 1)\n",
    "else:\n",
    "    # aggiungo la dimensione canale(colore), che qui e' solo una\n",
    "    X_train = X_train.unsqueeze(1)\n",
    "    X_test = X_test.unsqueeze(1)\n",
    "y_test = y_test.type(torch.LongTensor)\n",
    "y_train = y_train.type(torch.LongTensor)"
   ]
  },
  {
   "cell_type": "code",
   "execution_count": 177,
   "metadata": {
    "collapsed": false,
    "ExecuteTime": {
     "start_time": "2023-04-19T23:38:54.998580Z",
     "end_time": "2023-04-19T23:38:55.065828Z"
    }
   },
   "outputs": [],
   "source": [
    "test = TensorDataset(X_test, y_test)\n",
    "train = TensorDataset(X_train, y_train)"
   ]
  },
  {
   "cell_type": "markdown",
   "metadata": {
    "collapsed": false
   },
   "source": [
    "creo i batch, randomizzando i dati, con un dataloader"
   ]
  },
  {
   "cell_type": "code",
   "execution_count": 178,
   "metadata": {
    "collapsed": false,
    "ExecuteTime": {
     "start_time": "2023-04-19T23:38:55.024492Z",
     "end_time": "2023-04-19T23:38:55.065828Z"
    }
   },
   "outputs": [
    {
     "name": "stdout",
     "output_type": "stream",
     "text": [
      "Shape of X : torch.Size([50, 3, 24, 24])\n",
      "Shape of y: torch.Size([50]) torch.int64\n"
     ]
    }
   ],
   "source": [
    "batch_size = 50\n",
    "\n",
    "# Create data loaders.\n",
    "test = DataLoader(test, batch_size=batch_size, shuffle=True)\n",
    "train = DataLoader(train, batch_size=batch_size, shuffle=True)\n",
    "\n",
    "for X, y in test:\n",
    "    print(f\"Shape of X : {X.shape}\")\n",
    "    print(f\"Shape of y: {y.shape} {y.dtype}\")\n",
    "    break"
   ]
  },
  {
   "cell_type": "markdown",
   "metadata": {
    "collapsed": false
   },
   "source": [
    "# creo la neural network"
   ]
  },
  {
   "cell_type": "code",
   "execution_count": 179,
   "metadata": {
    "collapsed": false,
    "ExecuteTime": {
     "start_time": "2023-04-19T23:38:55.050244Z",
     "end_time": "2023-04-19T23:38:55.065828Z"
    }
   },
   "outputs": [
    {
     "name": "stdout",
     "output_type": "stream",
     "text": [
      "Using cpu device\n"
     ]
    }
   ],
   "source": [
    "device = \"cuda\" if torch.cuda.is_available() else \"cpu\"\n",
    "print(f\"Using {device} device\")"
   ]
  },
  {
   "cell_type": "code",
   "execution_count": 180,
   "metadata": {
    "collapsed": false,
    "ExecuteTime": {
     "start_time": "2023-04-19T23:38:55.065828Z",
     "end_time": "2023-04-19T23:38:55.187484Z"
    }
   },
   "outputs": [],
   "source": [
    "# moved definition to a second file, so I can dump the model and reload it from a third file\n",
    "if SMALL:\n",
    "    import SmallCnn\n",
    "    reload(SmallCnn)\n",
    "    from SmallCnn import NeuralNetwork\n",
    "else:\n",
    "    import CNN\n",
    "    reload(CNN)\n",
    "    from CNN import NeuralNetwork"
   ]
  },
  {
   "cell_type": "code",
   "execution_count": 181,
   "metadata": {
    "collapsed": false,
    "ExecuteTime": {
     "start_time": "2023-04-19T23:38:55.081456Z",
     "end_time": "2023-04-19T23:38:55.208029Z"
    }
   },
   "outputs": [
    {
     "name": "stdout",
     "output_type": "stream",
     "text": [
      "NeuralNetwork(\n",
      "  (linear_relu_stack): Sequential(\n",
      "    (0): Conv2d(3, 20, kernel_size=(5, 5), stride=(1, 1))\n",
      "    (1): ReLU(inplace=True)\n",
      "    (2): MaxPool2d(kernel_size=2, stride=2, padding=0, dilation=1, ceil_mode=False)\n",
      "    (3): ReLU(inplace=True)\n",
      "    (4): Conv2d(20, 50, kernel_size=(5, 5), stride=(1, 1))\n",
      "    (5): ReLU(inplace=True)\n",
      "    (6): MaxPool2d(kernel_size=2, stride=2, padding=0, dilation=1, ceil_mode=False)\n",
      "    (7): ReLU(inplace=True)\n",
      "  )\n",
      "  (linear_layers): Sequential(\n",
      "    (0): Linear(in_features=450, out_features=4, bias=True)\n",
      "    (1): LogSoftmax(dim=1)\n",
      "  )\n",
      "  (flatten): Flatten(start_dim=1, end_dim=-1)\n",
      ")\n"
     ]
    }
   ],
   "source": [
    "model = NeuralNetwork(numLabel=numLabel, not_color= not COLOR).to(device)\n",
    "print(model)"
   ]
  },
  {
   "cell_type": "code",
   "execution_count": 182,
   "metadata": {
    "collapsed": false,
    "ExecuteTime": {
     "start_time": "2023-04-19T23:38:55.109198Z",
     "end_time": "2023-04-19T23:38:55.208029Z"
    }
   },
   "outputs": [],
   "source": [
    "#loss_fn = nn.MSELoss()\n",
    "#loss_fn = nn.L1Loss()\n",
    "#optimizer = torch.optim.SGD(model.parameters(), lr=1e-7, momentum=0.9)\n",
    "LEARNING_RATE = 1e-4\n",
    "optimizer = torch.optim.Adam(model.parameters(), lr=LEARNING_RATE)\n",
    "#loss_fn = nn.CrossEntropyLoss()\n",
    "loss_fn = nn.NLLLoss()"
   ]
  },
  {
   "cell_type": "code",
   "execution_count": 183,
   "metadata": {
    "collapsed": false,
    "ExecuteTime": {
     "start_time": "2023-04-19T23:38:55.124983Z",
     "end_time": "2023-04-19T23:38:55.277614Z"
    }
   },
   "outputs": [],
   "source": [
    "def trainf(dataloader, model, loss_fn, optimizer, print=True):\n",
    "    global best_model\n",
    "    best_loss = float(\"inf\")\n",
    "    size = len(dataloader.dataset)\n",
    "    #model.double()\n",
    "    model.train()\n",
    "    #for batch , (X, Y) in tqdm(enumerate(dataloader), leave=False, total=len(dataloader), position=1, file=sys.stdout):\n",
    "    for batch , (X, Y) in enumerate(dataloader):\n",
    "        X, Y = X.to(device), Y.to(device)\n",
    "        loss = float(\"inf\")\n",
    "        optimizer.zero_grad()\n",
    "        # Compute prediction error\n",
    "        #output = torch.argmax(X, dim=1).float()\n",
    "        pred = model(X)\n",
    "        loss = loss_fn(pred,Y)\n",
    "        loss.backward()\n",
    "        # Backpropagation\n",
    "        optimizer.step()\n",
    "\n",
    "        if loss < best_loss:\n",
    "            best_loss = loss\n",
    "            best_model = deepcopy(model)\n",
    "\n",
    "        if batch % 100 == 0:\n",
    "            loss, current = loss.item(), batch * len(X)\n",
    "            train_losses.append(loss)\n",
    "            if print:\n",
    "                tqdm.write(f\"loss: {loss:>7f}  [{current:>5d}/{size:>5d}]\")"
   ]
  },
  {
   "cell_type": "code",
   "execution_count": 184,
   "metadata": {
    "collapsed": false,
    "ExecuteTime": {
     "start_time": "2023-04-19T23:38:55.208029Z",
     "end_time": "2023-04-19T23:38:55.293241Z"
    }
   },
   "outputs": [],
   "source": [
    "def testf(dataloader, model, loss_fn, print=True):\n",
    "    size = len(dataloader.dataset)\n",
    "    num_batches = len(dataloader)\n",
    "    model.eval()\n",
    "    test_loss, correct = 0, 0\n",
    "    with torch.no_grad():\n",
    "        for batch, (X, Y) in enumerate(dataloader):\n",
    "            gas_loss = [([],[]) for _ in range(5)]\n",
    "            X, Y = X.to(device), Y.to(device)\n",
    "            pred = model(X)\n",
    "            loss = loss_fn(pred, Y).item()\n",
    "            test_loss += loss\n",
    "            if batch % 100 == 0:\n",
    "                val_losses.append(loss)\n",
    "    test_loss /= num_batches * batch_size\n",
    "    if print:\n",
    "        tqdm.write(f\"Test Error:  Avg loss: {test_loss:>8f} \\n\")\n"
   ]
  },
  {
   "cell_type": "code",
   "execution_count": 185,
   "metadata": {
    "collapsed": false,
    "ExecuteTime": {
     "start_time": "2023-04-19T23:38:55.230708Z",
     "end_time": "2023-04-19T23:39:03.317624Z"
    }
   },
   "outputs": [
    {
     "data": {
      "text/plain": "  0%|          | 0/50 [00:00<?, ?it/s]",
      "application/vnd.jupyter.widget-view+json": {
       "version_major": 2,
       "version_minor": 0,
       "model_id": "db632ef95f6a4964a8b572e82f7781b5"
      }
     },
     "metadata": {},
     "output_type": "display_data"
    }
   ],
   "source": [
    "epochs = 50\n",
    "val_losses = []\n",
    "train_losses = []\n",
    "best_model = None\n",
    "for t in trange(epochs, file=sys.stdout):\n",
    "    trainf(train, model, loss_fn, optimizer, print=False)\n",
    "    testf(test, model, loss_fn, print=False)\n",
    "torch.save(model.state_dict(), f'saves/nn{\"Color\" if COLOR else \"\"}{\"Small\" if SMALL else \"\"}.torch')"
   ]
  },
  {
   "cell_type": "code",
   "execution_count": 186,
   "metadata": {
    "collapsed": false,
    "ExecuteTime": {
     "start_time": "2023-04-19T23:39:03.318626Z",
     "end_time": "2023-04-19T23:39:03.512537Z"
    }
   },
   "outputs": [
    {
     "name": "stdout",
     "output_type": "stream",
     "text": [
      "len(train_losses)=50\n"
     ]
    },
    {
     "data": {
      "text/plain": "<Figure size 640x480 with 1 Axes>",
      "image/png": "[encoded data removed]"
     },
     "metadata": {},
     "output_type": "display_data"
    }
   ],
   "source": [
    "print(f'{len(train_losses)=}')\n",
    "plt.plot(train_losses, label='Training loss')\n",
    "plt.plot(val_losses, label='Validation loss')\n",
    "plt.legend()\n",
    "# start y from 0\n",
    "plt.ylim(bottom=0)\n",
    "plt.show()"
   ]
  },
  {
   "cell_type": "code",
   "execution_count": 187,
   "metadata": {
    "ExecuteTime": {
     "start_time": "2023-04-19T23:39:03.512537Z",
     "end_time": "2023-04-19T23:39:03.868593Z"
    }
   },
   "outputs": [
    {
     "name": "stdout",
     "output_type": "stream",
     "text": [
      "test data\n",
      "true=71\n",
      "false=0\n",
      "true/(true+false)=1.0\n",
      "train data\n",
      "true=473\n",
      "false=0\n",
      "true/(true+false)=1.0\n"
     ]
    }
   ],
   "source": [
    "true = 0\n",
    "false = 0\n",
    "\n",
    "model.eval()\n",
    "with torch.no_grad():\n",
    "    for x, y in zip(X_test, y_test):\n",
    "        if COLOR:\n",
    "            #x = x.permute(0, 3, 2, 1)\n",
    "            x = x.unsqueeze(0)\n",
    "        else:\n",
    "            x = x.unsqueeze(1)\n",
    "        x = x.to(device)\n",
    "        y_pred = model(x)\n",
    "        y_pred = torch.argmax(y_pred, dim=1)\n",
    "        y_pred = y_pred.cpu().numpy()[0]\n",
    "        if y_pred == y:\n",
    "            true += 1\n",
    "        else:\n",
    "            false += 1\n",
    "            print(f'{y_pred=} {y=}')\n",
    "\n",
    "print('test data')\n",
    "print(f'{true=}')\n",
    "print(f'{false=}')\n",
    "print(f'{true/(true+false)=}')\n",
    "with torch.no_grad():\n",
    "    for x, y in zip(X_train, y_train):\n",
    "        if COLOR:\n",
    "            #x = x.permute(0, 3, 2, 1)\n",
    "            x = x.unsqueeze(0)\n",
    "        else:\n",
    "            x = x.unsqueeze(1)\n",
    "        x = x.to(device)\n",
    "        y_pred = model(x)\n",
    "        y_pred = torch.argmax(y_pred, dim=1)\n",
    "        y_pred = y_pred.cpu().numpy()[0]\n",
    "        if y_pred == y:\n",
    "            true += 1\n",
    "        else:\n",
    "            false += 1\n",
    "\n",
    "print('train data')\n",
    "print(f'{true=}')\n",
    "print(f'{false=}')\n",
    "print(f'{true/(true+false)=}')"
   ]
  },
  {
   "cell_type": "code",
   "execution_count": 187,
   "outputs": [],
   "source": [],
   "metadata": {
    "collapsed": false,
    "ExecuteTime": {
     "start_time": "2023-04-19T23:39:03.845620Z",
     "end_time": "2023-04-19T23:39:03.868593Z"
    }
   }
  }
 ],
 "metadata": {
  "kernelspec": {
   "display_name": "Python 3.9.12 ('base')",
   "language": "python",
   "name": "python3"
  },
  "language_info": {
   "codemirror_mode": {
    "name": "ipython",
    "version": 3
   },
   "file_extension": ".py",
   "mimetype": "text/x-python",
   "name": "python",
   "nbconvert_exporter": "python",
   "pygments_lexer": "ipython3",
   "version": "3.9.12"
  },
  "vscode": {
   "interpreter": {
    "hash": "9d8a2aa56706f0475aa983bd88b54765f20e6e6d70a842875d22122789babd85"
   }
  }
 },
 "nbformat": 4,
 "nbformat_minor": 0
}
