{
 "cells": [
  {
   "cell_type": "markdown",
   "source": [
    "# Prima prova di neural network"
   ],
   "metadata": {
    "collapsed": false
   }
  },
  {
   "cell_type": "code",
   "execution_count": null,
   "outputs": [],
   "source": [
    "import torch\n",
    "from torch import nn\n",
    "from torch.utils.data import DataLoader, TensorDataset\n",
    "#from tqdm.notebook import tqdm, trange\n",
    "from tqdm.auto import tqdm, trange\n",
    "import pandas as pd\n",
    "import numpy as np\n",
    "from sklearn.model_selection import train_test_split\n",
    "from skimage.io import imread\n",
    "from copy import deepcopy\n",
    "import matplotlib as plt\n",
    "from sklearn import preprocessing"
   ],
   "metadata": {
    "collapsed": false
   }
  },
  {
   "cell_type": "markdown",
   "source": [
    "prendo i dati, li leggo e li splitto"
   ],
   "metadata": {
    "collapsed": false
   }
  },
  {
   "cell_type": "code",
   "execution_count": null,
   "outputs": [],
   "source": [
    "train = pd.read_csv(\"data/train_dataset.csv\")\n",
    "train_img = []\n",
    "for img_name in tqdm(train['id']):\n",
    "    image_path = 'data/' + str(img_name) + '.png'\n",
    "    img = imread(image_path, as_gray=True)\n",
    "    # normalizing the pixel values\n",
    "    img /= 255.0\n",
    "    # converting the type of pixel to float 32\n",
    "    img = img.astype('float32')\n",
    "    train_img.append(img)\n",
    "\n",
    "# converting the list to numpy array\n",
    "X = np.array(train_img)\n",
    "y = train['label'].values"
   ],
   "metadata": {
    "collapsed": false
   }
  },
  {
   "cell_type": "code",
   "execution_count": null,
   "outputs": [],
   "source": [
    "X_train, X_test, y_train, y_test = train_test_split(X, y, random_state=42, test_size=0.15)\n",
    "\n",
    "X_train = X_train.reshape(54000, 1, 28, 28)\n",
    "X_train  = torch.from_numpy(X_train)\n",
    "\n",
    "# converting the target into torch format\n",
    "y_train = y_train.astype(int)\n",
    "y_train = torch.from_numpy(y_train)\n",
    "\n",
    "# shape of training data\n",
    "X_train.shape, y_train.shape"
   ],
   "metadata": {
    "collapsed": false
   }
  },
  {
   "cell_type": "code",
   "execution_count": null,
   "outputs": [],
   "source": [
    "X_test = X_test.reshape(6400, 1, 28, 28)\n",
    "X_test  = torch.from_numpy(X_test)\n",
    "\n",
    "# converting the target into torch format\n",
    "y_test = y_test.astype(int)\n",
    "y_test = torch.from_numpy(y_test)"
   ],
   "metadata": {
    "collapsed": false
   }
  },
  {
   "cell_type": "code",
   "execution_count": null,
   "outputs": [],
   "source": [
    "test = TensorDataset(X_test, y_test)\n",
    "train = TensorDataset(X_train, y_train)"
   ],
   "metadata": {
    "collapsed": false
   }
  },
  {
   "cell_type": "markdown",
   "source": [
    "creo i batch, randomizzando i dati, con un dataloader"
   ],
   "metadata": {
    "collapsed": false
   }
  },
  {
   "cell_type": "code",
   "execution_count": null,
   "outputs": [],
   "source": [
    "batch_size = 50\n",
    "\n",
    "# Create data loaders.\n",
    "test = DataLoader(test, batch_size=batch_size, shuffle=True)\n",
    "train = DataLoader(train, batch_size=batch_size, shuffle=True)\n",
    "\n",
    "for X, y in test:\n",
    "    print(f\"Shape of X : {X.shape}\")\n",
    "    print(f\"Shape of y: {y.shape} {y.dtype}\")\n",
    "    break"
   ],
   "metadata": {
    "collapsed": false
   }
  },
  {
   "cell_type": "markdown",
   "source": [
    "# creo la neural network"
   ],
   "metadata": {
    "collapsed": false
   }
  },
  {
   "cell_type": "code",
   "execution_count": null,
   "outputs": [],
   "source": [
    "device = \"cuda\" if torch.cuda.is_available() else \"cpu\"\n",
    "print(f\"Using {device} device\")"
   ],
   "metadata": {
    "collapsed": false
   }
  },
  {
   "cell_type": "code",
   "execution_count": null,
   "outputs": [],
   "source": [
    "# Define model\n",
    "class NeuralNetwork(nn.Module):\n",
    "    def __init__(self):\n",
    "        super(NeuralNetwork, self).__init__()\n",
    "        #self.flatten = nn.Flatten()\n",
    "        # take in input resistance, age, heater_r and heater_V\n",
    "        self.linear_relu_stack = nn.Sequential(\n",
    "            # Defining a 2D convolution layer\n",
    "            nn.Conv2d(1, 4, kernel_size=3, stride=1, padding=1),\n",
    "            nn.BatchNorm2d(4),\n",
    "            nn.ReLU(inplace=True),\n",
    "            nn.MaxPool2d(kernel_size=2, stride=2),\n",
    "            # Defining another 2D convolution layer\n",
    "            nn.Conv2d(4, 4, kernel_size=3, stride=1, padding=1),\n",
    "            nn.BatchNorm2d(4),\n",
    "            nn.ReLU(inplace=True),\n",
    "            nn.MaxPool2d(kernel_size=2, stride=2),\n",
    "        )\n",
    "\n",
    "        self.linear_layers = nn.Sequential(\n",
    "            nn.Linear(4 * 7 * 7, 10)\n",
    "        )\n",
    "\n",
    "\n",
    "    def forward(self, x):\n",
    "        #x = self.flatten(x)\n",
    "        logits = self.linear_relu_stack(x)\n",
    "        logits = logits.view(x.size(0), -1)\n",
    "        logits = self.linear_layers(logits)\n",
    "        return logits\n"
   ],
   "metadata": {
    "collapsed": false
   }
  },
  {
   "cell_type": "code",
   "execution_count": null,
   "outputs": [],
   "source": [
    "model = NeuralNetwork().to(device)\n",
    "print(model)"
   ],
   "metadata": {
    "collapsed": false
   }
  },
  {
   "cell_type": "code",
   "execution_count": null,
   "outputs": [],
   "source": [
    "#loss_fn = nn.MSELoss()\n",
    "loss_2 = nn.MSELoss()\n",
    "#loss_fn = nn.L1Loss()\n",
    "#optimizer = torch.optim.SGD(model.parameters(), lr=1e-7, momentum=0.9)\n",
    "optimizer = torch.optim.Adam(model.parameters(), lr=0.07)\n",
    "loss_fn = nn.CrossEntropyLoss()"
   ],
   "metadata": {
    "collapsed": false
   }
  },
  {
   "cell_type": "code",
   "execution_count": null,
   "outputs": [],
   "source": [
    "\n",
    "\n",
    "def trainf(dataloader, model, loss_fn, optimizer):\n",
    "    global best_model\n",
    "    best_loss = float(\"inf\")\n",
    "    size = len(dataloader.dataset)\n",
    "    model.double()\n",
    "    model.train()\n",
    "    for batch , (X, Y) in enumerate(dataloader):\n",
    "        gas_loss = [([],[]) for _ in range(5)]\n",
    "        X, Y = X.to(device), Y.to(device)\n",
    "        loss = float(\"inf\")\n",
    "        optimizer.zero_grad()\n",
    "        # Compute prediction error\n",
    "        for x_line, y_line in zip(X, Y):\n",
    "            pred = model(x_line)\n",
    "            for i, (gas, y_lin) in enumerate(zip(pred, y_line)):\n",
    "                gas_loss[i][0].append(y_lin)\n",
    "                gas_loss[i][1].append(gas)\n",
    "            loss = loss_fn(pred, y_line)\n",
    "            loss.backward()\n",
    "        # Backpropagation\n",
    "        optimizer.step()\n",
    "\n",
    "        if loss < best_loss:\n",
    "            best_loss = loss\n",
    "            best_model = deepcopy(model)\n",
    "\n",
    "        if batch % 100 == 0:\n",
    "            for i, gas in enumerate(gas_loss):\n",
    "                pass\n",
    "                #print(f\"gas {i}: loss = {loss_2(torch.tensor(gas[0]), torch.tensor(gas[1])).item()}\")\n",
    "            loss, current = loss.item(), batch * len(X)\n",
    "            train_losses.append(loss)\n",
    "            print(f\"loss: {loss:>7f}  [{current:>5d}/{size:>5d}]\")"
   ],
   "metadata": {
    "collapsed": false
   }
  },
  {
   "cell_type": "code",
   "execution_count": null,
   "outputs": [],
   "source": [
    "def testf(dataloader, model, loss_fn):\n",
    "    size = len(dataloader.dataset)\n",
    "    num_batches = len(dataloader)\n",
    "    model.eval()\n",
    "    test_loss, correct = 0, 0\n",
    "    with torch.no_grad():\n",
    "        gas_avg_loss = [0 for _ in range(5)]\n",
    "        for X, Y in dataloader:\n",
    "            gas_loss = [([],[]) for _ in range(5)]\n",
    "            X, Y = X.to(device), Y.to(device)\n",
    "            for x_line, y_line in zip(X, Y):\n",
    "                pred = model(x_line)\n",
    "                for i, (gas, y_lin) in enumerate(zip(pred, y_line)):\n",
    "                    gas_loss[i][0].append(y_lin)\n",
    "                    gas_loss[i][1].append(gas)\n",
    "                test_loss += loss_fn(pred, y_line).item()\n",
    "                #correct += (pred.argmax(1) == y).type(torch.float).sum().item()\n",
    "            for i, gas in enumerate(gas_loss):\n",
    "                for yp, pre in zip(gas[0],gas[1]):\n",
    "                    gas_avg_loss[i] += loss_fn(torch.tensor(yp), torch.tensor(pre)).item()\n",
    "    test_loss /= num_batches * batch_size\n",
    "    for i, num in enumerate(gas_avg_loss):\n",
    "        print(f'gas {i}: avg loss = {num / (num_batches * batch_size)}')\n",
    "    #correct /= size\n",
    "    #print(f\"Test Error: \\n Accuracy: {(100*correct):>0.1f}%, Avg loss: {test_loss:>8f} \\n\")\n",
    "    val_losses.append(test_loss)\n",
    "    print(f\"Test Error: \\n Avg loss: {test_loss:>8f} \\n\")\n"
   ],
   "metadata": {
    "collapsed": false
   }
  },
  {
   "cell_type": "code",
   "execution_count": null,
   "outputs": [],
   "source": [
    "epochs = 20\n",
    "train_losses = []\n",
    "val_losses = []\n",
    "for t in range(epochs):\n",
    "    print(f\"Epoch {t+1}\\n-------------------------------\")\n",
    "    trainf(train, model, loss_fn, optimizer)\n",
    "    testf(test, model, loss_fn)\n",
    "print(\"Done!\")"
   ],
   "metadata": {
    "collapsed": false
   }
  },
  {
   "cell_type": "code",
   "execution_count": null,
   "outputs": [],
   "source": [
    "plt.plot(train_losses, label='Training loss')\n",
    "plt.plot(val_losses, label='Validation loss')\n",
    "plt.legend()\n",
    "plt.show()"
   ],
   "metadata": {
    "collapsed": false
   }
  }
 ],
 "metadata": {
  "kernelspec": {
   "display_name": "Python 3",
   "language": "python",
   "name": "python3"
  },
  "language_info": {
   "codemirror_mode": {
    "name": "ipython",
    "version": 2
   },
   "file_extension": ".py",
   "mimetype": "text/x-python",
   "name": "python",
   "nbconvert_exporter": "python",
   "pygments_lexer": "ipython2",
   "version": "2.7.6"
  }
 },
 "nbformat": 4,
 "nbformat_minor": 0
}
