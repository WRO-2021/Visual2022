{
 "cells": [
  {
   "cell_type": "markdown",
   "metadata": {
    "collapsed": false
   },
   "source": [
    "# Prima prova di neural network"
   ]
  },
  {
   "cell_type": "code",
   "execution_count": 3,
   "metadata": {
    "collapsed": false
   },
   "outputs": [],
   "source": [
    "import torch\n",
    "from torch import nn\n",
    "from torch.utils.data import DataLoader, TensorDataset, Dataset\n",
    "#from tqdm.notebook import tqdm, trange\n",
    "from tqdm.auto import tqdm, trange\n",
    "import pandas as pd\n",
    "import numpy as np\n",
    "from sklearn.model_selection import train_test_split\n",
    "from skimage.io import imread\n",
    "from copy import deepcopy\n",
    "import matplotlib.pyplot as plt\n",
    "from sklearn import preprocessing\n",
    "import pickle\n",
    "import json\n",
    "import sys\n",
    "import time"
   ]
  },
  {
   "cell_type": "markdown",
   "metadata": {
    "collapsed": false
   },
   "source": [
    "prendo i dati, li leggo e li splitto"
   ]
  },
  {
   "cell_type": "code",
   "execution_count": 32,
   "metadata": {
    "collapsed": false
   },
   "outputs": [
    {
     "data": {
      "application/vnd.jupyter.widget-view+json": {
       "model_id": "b1cbfc2d8a2548638e51d94a93fafaa4",
       "version_major": 2,
       "version_minor": 0
      },
      "text/plain": [
       "  0%|          | 0/12 [00:00<?, ?it/s]"
      ]
     },
     "metadata": {},
     "output_type": "display_data"
    }
   ],
   "source": [
    "train = None\n",
    "with open('../data/images/data.json', 'r') as f:\n",
    "    train = json.load(f)\n",
    "labels = {}\n",
    "train_img = []\n",
    "y = []\n",
    "for img_name, type in tqdm(train.items()):\n",
    "    labels[type] = True\n",
    "    y.append(type)\n",
    "    image_path = '../data/' + str(img_name)\n",
    "    img = imread(image_path, as_gray=True)\n",
    "    # normalizing the pixel values\n",
    "    img /= 255.0\n",
    "    # converting the type of pixel to float 32\n",
    "    img = img.astype('float32')\n",
    "    train_img.append(img)\n",
    "\n",
    "\n",
    "numLabel = len(labels)\n",
    "# converting the list to numpy array\n",
    "X = np.array(train_img)\n",
    "y = np.array(y)"
   ]
  },
  {
   "attachments": {},
   "cell_type": "markdown",
   "metadata": {},
   "source": [
    "One hot encoding"
   ]
  },
  {
   "cell_type": "code",
   "execution_count": 33,
   "metadata": {},
   "outputs": [],
   "source": [
    "oneHot = False"
   ]
  },
  {
   "cell_type": "code",
   "execution_count": 34,
   "metadata": {},
   "outputs": [
    {
     "name": "stdout",
     "output_type": "stream",
     "text": [
      "['H' 'none']\n"
     ]
    }
   ],
   "source": [
    "if oneHot:\n",
    "    one = preprocessing.OneHotEncoder()\n",
    "    y = one.fit_transform(y.reshape(-1,1)).toarray()\n",
    "    pickle.dump(one, open('oneHotEncoder.pickle', 'wb'))\n",
    "else:\n",
    "    le = preprocessing.LabelEncoder()\n",
    "    y = le.fit_transform(y)\n",
    "    # print the classes\n",
    "    print(le.classes_)\n",
    "    pickle.dump(le, open('labelEncoder.pickle', 'wb'))"
   ]
  },
  {
   "cell_type": "code",
   "execution_count": 7,
   "metadata": {
    "collapsed": false
   },
   "outputs": [
    {
     "data": {
      "text/plain": [
       "(torch.Size([10, 16, 16]), torch.Size([10]))"
      ]
     },
     "execution_count": 7,
     "metadata": {},
     "output_type": "execute_result"
    }
   ],
   "source": [
    "X_train, X_test, y_train, y_test = train_test_split(X, y, random_state=42, test_size=0.15)\n",
    "\n",
    "#X_train = X_train.reshape(len(X), 16, 16)\n",
    "X_train  = torch.from_numpy(X_train)\n",
    "X_test = torch.from_numpy(X_test)\n",
    "\n",
    "# converting the target into torch format\n",
    "y_train = y_train.astype(int)\n",
    "y_train = torch.from_numpy(y_train)\n",
    "y_test = y_test.astype(int)\n",
    "y_test = torch.from_numpy(y_test)\n",
    "\n",
    "# shape of training data\n",
    "X_train.shape, y_train.shape"
   ]
  },
  {
   "cell_type": "code",
   "execution_count": 8,
   "metadata": {},
   "outputs": [],
   "source": [
    "X_train = X_train.unsqueeze(1)\n",
    "X_test = X_test.unsqueeze(1)\n",
    "y_test = y_test.type(torch.LongTensor)\n",
    "y_train = y_train.type(torch.LongTensor)"
   ]
  },
  {
   "cell_type": "code",
   "execution_count": 9,
   "metadata": {
    "collapsed": false
   },
   "outputs": [],
   "source": [
    "test = TensorDataset(X_test, y_test)\n",
    "train = TensorDataset(X_train, y_train)"
   ]
  },
  {
   "cell_type": "code",
   "execution_count": null,
   "metadata": {},
   "outputs": [],
   "source": []
  },
  {
   "cell_type": "markdown",
   "metadata": {
    "collapsed": false
   },
   "source": [
    "creo i batch, randomizzando i dati, con un dataloader"
   ]
  },
  {
   "cell_type": "code",
   "execution_count": 10,
   "metadata": {
    "collapsed": false
   },
   "outputs": [
    {
     "name": "stdout",
     "output_type": "stream",
     "text": [
      "Shape of X : torch.Size([2, 1, 16, 16])\n",
      "Shape of y: torch.Size([2]) torch.int64\n"
     ]
    }
   ],
   "source": [
    "batch_size = 50\n",
    "\n",
    "# Create data loaders.\n",
    "test = DataLoader(test, batch_size=batch_size, shuffle=True)\n",
    "train = DataLoader(train, batch_size=batch_size, shuffle=True)\n",
    "\n",
    "for X, y in test:\n",
    "    print(f\"Shape of X : {X.shape}\")\n",
    "    print(f\"Shape of y: {y.shape} {y.dtype}\")\n",
    "    break"
   ]
  },
  {
   "cell_type": "markdown",
   "metadata": {
    "collapsed": false
   },
   "source": [
    "# creo la neural network"
   ]
  },
  {
   "cell_type": "code",
   "execution_count": 11,
   "metadata": {
    "collapsed": false
   },
   "outputs": [
    {
     "name": "stdout",
     "output_type": "stream",
     "text": [
      "Using cpu device\n"
     ]
    }
   ],
   "source": [
    "device = \"cuda\" if torch.cuda.is_available() else \"cpu\"\n",
    "print(f\"Using {device} device\")"
   ]
  },
  {
   "cell_type": "code",
   "execution_count": 12,
   "metadata": {
    "collapsed": false
   },
   "outputs": [],
   "source": [
    "# moved definition to other file, so I can dump the model\n",
    "from CNN import NeuralNetwork"
   ]
  },
  {
   "cell_type": "code",
   "execution_count": 13,
   "metadata": {
    "collapsed": false
   },
   "outputs": [
    {
     "name": "stdout",
     "output_type": "stream",
     "text": [
      "NeuralNetwork(\n",
      "  (linear_relu_stack): Sequential(\n",
      "    (0): Conv2d(1, 20, kernel_size=(5, 5), stride=(1, 1))\n",
      "    (1): ReLU(inplace=True)\n",
      "    (2): MaxPool2d(kernel_size=(2, 2), stride=(2, 2), padding=0, dilation=1, ceil_mode=False)\n",
      "    (3): Conv2d(20, 50, kernel_size=(5, 5), stride=(1, 1))\n",
      "    (4): ReLU(inplace=True)\n",
      "    (5): MaxPool2d(kernel_size=(2, 2), stride=(2, 2), padding=0, dilation=1, ceil_mode=False)\n",
      "  )\n",
      "  (linear_layers): Sequential(\n",
      "    (0): Flatten(start_dim=1, end_dim=-1)\n",
      "    (1): Linear(in_features=50, out_features=2, bias=True)\n",
      "    (2): LogSoftmax(dim=1)\n",
      "  )\n",
      ")\n"
     ]
    }
   ],
   "source": [
    "model = NeuralNetwork(numLabel=numLabel).to(device)\n",
    "print(model)"
   ]
  },
  {
   "cell_type": "code",
   "execution_count": 14,
   "metadata": {
    "collapsed": false
   },
   "outputs": [],
   "source": [
    "#loss_fn = nn.MSELoss()\n",
    "#loss_fn = nn.L1Loss()\n",
    "#optimizer = torch.optim.SGD(model.parameters(), lr=1e-7, momentum=0.9)\n",
    "LEARNING_RATE = 1e-3\n",
    "optimizer = torch.optim.Adam(model.parameters(), lr=LEARNING_RATE)\n",
    "#loss_fn = nn.CrossEntropyLoss()\n",
    "loss_fn = nn.NLLLoss()"
   ]
  },
  {
   "cell_type": "code",
   "execution_count": 19,
   "metadata": {
    "collapsed": false
   },
   "outputs": [],
   "source": [
    "train_losses = []\n",
    "def trainf(dataloader, model, loss_fn, optimizer):\n",
    "    global best_model\n",
    "    best_loss = float(\"inf\")\n",
    "    size = len(dataloader.dataset)\n",
    "    #model.double()\n",
    "    model.train()\n",
    "    for batch , (X, Y) in tqdm(enumerate(dataloader), leave=False, total=len(dataloader), position=1, file=sys.stdout):\n",
    "        X, Y = X.to(device), Y.to(device)\n",
    "        loss = float(\"inf\")\n",
    "        optimizer.zero_grad()\n",
    "        # Compute prediction error\n",
    "        #output = torch.argmax(X, dim=1).float()\n",
    "        pred = model(X)\n",
    "        loss = loss_fn(pred,Y)\n",
    "        loss.backward()\n",
    "        # Backpropagation\n",
    "        optimizer.step()\n",
    "\n",
    "        if loss < best_loss:\n",
    "            best_loss = loss\n",
    "            best_model = deepcopy(model)\n",
    "\n",
    "        if batch % 100 == 0:\n",
    "            loss, current = loss.item(), batch * len(X)\n",
    "            train_losses.append(loss)\n",
    "            tqdm.write(f\"loss: {loss:>7f}  [{current:>5d}/{size:>5d}]\")"
   ]
  },
  {
   "cell_type": "code",
   "execution_count": 20,
   "metadata": {
    "collapsed": false
   },
   "outputs": [],
   "source": [
    "def testf(dataloader, model, loss_fn):\n",
    "    size = len(dataloader.dataset)\n",
    "    num_batches = len(dataloader)\n",
    "    model.eval()\n",
    "    test_loss, correct = 0, 0\n",
    "    with torch.no_grad():\n",
    "        gas_avg_loss = [0 for _ in range(5)]\n",
    "        for X, Y in dataloader:\n",
    "            gas_loss = [([],[]) for _ in range(5)]\n",
    "            X, Y = X.to(device), Y.to(device)\n",
    "            pred = model(X)\n",
    "            for i, (gas, y_lin) in enumerate(zip(pred, Y)):\n",
    "                gas_loss[i][0].append(y_lin)\n",
    "                gas_loss[i][1].append(gas)\n",
    "            test_loss += loss_fn(pred, Y).item()\n",
    "    test_loss /= num_batches * batch_size\n",
    "    tqdm.write(f\"Test Error: \\n Avg loss: {test_loss:>8f} \\n\")\n"
   ]
  },
  {
   "cell_type": "code",
   "execution_count": 22,
   "metadata": {
    "collapsed": false
   },
   "outputs": [
    {
     "data": {
      "application/vnd.jupyter.widget-view+json": {
       "model_id": "5053e846568c4ba4b039e15015590946",
       "version_major": 2,
       "version_minor": 0
      },
      "text/plain": [
       "  0%|          | 0/20 [00:00<?, ?it/s]"
      ]
     },
     "metadata": {},
     "output_type": "display_data"
    },
    {
     "data": {
      "application/vnd.jupyter.widget-view+json": {
       "model_id": "915792b5d5a646f1a5fabd21e77a1260",
       "version_major": 2,
       "version_minor": 0
      },
      "text/plain": [
       "  0%|          | 0/1 [00:00<?, ?it/s]"
      ]
     },
     "metadata": {},
     "output_type": "display_data"
    },
    {
     "name": "stdout",
     "output_type": "stream",
     "text": [
      "torch.Size([10, 1, 16, 16])\n",
      "torch.float32\n",
      "loss: 0.326654  [    0/   10]\n",
      "Test Error: \n",
      " Avg loss: 0.001677 \n",
      "\n"
     ]
    },
    {
     "data": {
      "application/vnd.jupyter.widget-view+json": {
       "model_id": "331eba4c51c248ddb6c2bd04bc79d4b5",
       "version_major": 2,
       "version_minor": 0
      },
      "text/plain": [
       "  0%|          | 0/1 [00:00<?, ?it/s]"
      ]
     },
     "metadata": {},
     "output_type": "display_data"
    },
    {
     "name": "stdout",
     "output_type": "stream",
     "text": [
      "torch.Size([10, 1, 16, 16])\n",
      "torch.float32\n",
      "loss: 0.327332  [    0/   10]\n",
      "Test Error: \n",
      " Avg loss: 0.001627 \n",
      "\n"
     ]
    },
    {
     "data": {
      "application/vnd.jupyter.widget-view+json": {
       "model_id": "3e315b62b9f142e6be6f8a743351ce43",
       "version_major": 2,
       "version_minor": 0
      },
      "text/plain": [
       "  0%|          | 0/1 [00:00<?, ?it/s]"
      ]
     },
     "metadata": {},
     "output_type": "display_data"
    },
    {
     "name": "stdout",
     "output_type": "stream",
     "text": [
      "torch.Size([10, 1, 16, 16])\n",
      "torch.float32\n",
      "loss: 0.327985  [    0/   10]\n",
      "Test Error: \n",
      " Avg loss: 0.001587 \n",
      "\n"
     ]
    },
    {
     "data": {
      "application/vnd.jupyter.widget-view+json": {
       "model_id": "1db932a267bb4712bba34fddbf1d2417",
       "version_major": 2,
       "version_minor": 0
      },
      "text/plain": [
       "  0%|          | 0/1 [00:00<?, ?it/s]"
      ]
     },
     "metadata": {},
     "output_type": "display_data"
    },
    {
     "name": "stdout",
     "output_type": "stream",
     "text": [
      "torch.Size([10, 1, 16, 16])\n",
      "torch.float32\n",
      "loss: 0.328568  [    0/   10]\n",
      "Test Error: \n",
      " Avg loss: 0.001557 \n",
      "\n"
     ]
    },
    {
     "data": {
      "application/vnd.jupyter.widget-view+json": {
       "model_id": "a32e43fc19854ccd809855573e00151c",
       "version_major": 2,
       "version_minor": 0
      },
      "text/plain": [
       "  0%|          | 0/1 [00:00<?, ?it/s]"
      ]
     },
     "metadata": {},
     "output_type": "display_data"
    },
    {
     "name": "stdout",
     "output_type": "stream",
     "text": [
      "torch.Size([10, 1, 16, 16])\n",
      "torch.float32\n",
      "loss: 0.329049  [    0/   10]\n",
      "Test Error: \n",
      " Avg loss: 0.001536 \n",
      "\n"
     ]
    },
    {
     "data": {
      "application/vnd.jupyter.widget-view+json": {
       "model_id": "e25fa4456d204c98b0e5821bcbdcbf46",
       "version_major": 2,
       "version_minor": 0
      },
      "text/plain": [
       "  0%|          | 0/1 [00:00<?, ?it/s]"
      ]
     },
     "metadata": {},
     "output_type": "display_data"
    },
    {
     "name": "stdout",
     "output_type": "stream",
     "text": [
      "torch.Size([10, 1, 16, 16])\n",
      "torch.float32\n",
      "loss: 0.329409  [    0/   10]\n",
      "Test Error: \n",
      " Avg loss: 0.001523 \n",
      "\n"
     ]
    },
    {
     "data": {
      "application/vnd.jupyter.widget-view+json": {
       "model_id": "22d312c2e9f54433a6445a9159edd63c",
       "version_major": 2,
       "version_minor": 0
      },
      "text/plain": [
       "  0%|          | 0/1 [00:00<?, ?it/s]"
      ]
     },
     "metadata": {},
     "output_type": "display_data"
    },
    {
     "name": "stdout",
     "output_type": "stream",
     "text": [
      "torch.Size([10, 1, 16, 16])\n",
      "torch.float32\n",
      "loss: 0.329637  [    0/   10]\n",
      "Test Error: \n",
      " Avg loss: 0.001517 \n",
      "\n"
     ]
    },
    {
     "data": {
      "application/vnd.jupyter.widget-view+json": {
       "model_id": "4cd113332642482796e0797359012dcf",
       "version_major": 2,
       "version_minor": 0
      },
      "text/plain": [
       "  0%|          | 0/1 [00:00<?, ?it/s]"
      ]
     },
     "metadata": {},
     "output_type": "display_data"
    },
    {
     "name": "stdout",
     "output_type": "stream",
     "text": [
      "torch.Size([10, 1, 16, 16])\n",
      "torch.float32\n",
      "loss: 0.329732  [    0/   10]\n",
      "Test Error: \n",
      " Avg loss: 0.001519 \n",
      "\n"
     ]
    },
    {
     "data": {
      "application/vnd.jupyter.widget-view+json": {
       "model_id": "c7df07e9f2a94994b15ff639b6ff3c47",
       "version_major": 2,
       "version_minor": 0
      },
      "text/plain": [
       "  0%|          | 0/1 [00:00<?, ?it/s]"
      ]
     },
     "metadata": {},
     "output_type": "display_data"
    },
    {
     "name": "stdout",
     "output_type": "stream",
     "text": [
      "torch.Size([10, 1, 16, 16])\n",
      "torch.float32\n",
      "loss: 0.329701  [    0/   10]\n",
      "Test Error: \n",
      " Avg loss: 0.001527 \n",
      "\n"
     ]
    },
    {
     "data": {
      "application/vnd.jupyter.widget-view+json": {
       "model_id": "49f0982455bf4512a7c4c8f2b2976bc8",
       "version_major": 2,
       "version_minor": 0
      },
      "text/plain": [
       "  0%|          | 0/1 [00:00<?, ?it/s]"
      ]
     },
     "metadata": {},
     "output_type": "display_data"
    },
    {
     "name": "stdout",
     "output_type": "stream",
     "text": [
      "torch.Size([10, 1, 16, 16])\n",
      "torch.float32\n",
      "loss: 0.329556  [    0/   10]\n",
      "Test Error: \n",
      " Avg loss: 0.001541 \n",
      "\n"
     ]
    },
    {
     "data": {
      "application/vnd.jupyter.widget-view+json": {
       "model_id": "ddefd9be90d8450fbb92235d07db6327",
       "version_major": 2,
       "version_minor": 0
      },
      "text/plain": [
       "  0%|          | 0/1 [00:00<?, ?it/s]"
      ]
     },
     "metadata": {},
     "output_type": "display_data"
    },
    {
     "name": "stdout",
     "output_type": "stream",
     "text": [
      "torch.Size([10, 1, 16, 16])\n",
      "torch.float32\n",
      "loss: 0.329315  [    0/   10]\n",
      "Test Error: \n",
      " Avg loss: 0.001560 \n",
      "\n"
     ]
    },
    {
     "data": {
      "application/vnd.jupyter.widget-view+json": {
       "model_id": "c6551cf70b824f169f16833b06072d13",
       "version_major": 2,
       "version_minor": 0
      },
      "text/plain": [
       "  0%|          | 0/1 [00:00<?, ?it/s]"
      ]
     },
     "metadata": {},
     "output_type": "display_data"
    },
    {
     "name": "stdout",
     "output_type": "stream",
     "text": [
      "torch.Size([10, 1, 16, 16])\n",
      "torch.float32\n",
      "loss: 0.328995  [    0/   10]\n",
      "Test Error: \n",
      " Avg loss: 0.001583 \n",
      "\n"
     ]
    },
    {
     "data": {
      "application/vnd.jupyter.widget-view+json": {
       "model_id": "c999742a12a64dada7e75061fc7d77b6",
       "version_major": 2,
       "version_minor": 0
      },
      "text/plain": [
       "  0%|          | 0/1 [00:00<?, ?it/s]"
      ]
     },
     "metadata": {},
     "output_type": "display_data"
    },
    {
     "name": "stdout",
     "output_type": "stream",
     "text": [
      "torch.Size([10, 1, 16, 16])\n",
      "torch.float32\n",
      "loss: 0.328618  [    0/   10]\n",
      "Test Error: \n",
      " Avg loss: 0.001611 \n",
      "\n"
     ]
    },
    {
     "data": {
      "application/vnd.jupyter.widget-view+json": {
       "model_id": "88e4967c509a4b0cab6c7c9ec501e555",
       "version_major": 2,
       "version_minor": 0
      },
      "text/plain": [
       "  0%|          | 0/1 [00:00<?, ?it/s]"
      ]
     },
     "metadata": {},
     "output_type": "display_data"
    },
    {
     "name": "stdout",
     "output_type": "stream",
     "text": [
      "torch.Size([10, 1, 16, 16])\n",
      "torch.float32\n",
      "loss: 0.328203  [    0/   10]\n",
      "Test Error: \n",
      " Avg loss: 0.001642 \n",
      "\n"
     ]
    },
    {
     "data": {
      "application/vnd.jupyter.widget-view+json": {
       "model_id": "ce36f17322a348798744fd94f5dda59f",
       "version_major": 2,
       "version_minor": 0
      },
      "text/plain": [
       "  0%|          | 0/1 [00:00<?, ?it/s]"
      ]
     },
     "metadata": {},
     "output_type": "display_data"
    },
    {
     "name": "stdout",
     "output_type": "stream",
     "text": [
      "torch.Size([10, 1, 16, 16])\n",
      "torch.float32\n",
      "loss: 0.327771  [    0/   10]\n",
      "Test Error: \n",
      " Avg loss: 0.001676 \n",
      "\n"
     ]
    },
    {
     "data": {
      "application/vnd.jupyter.widget-view+json": {
       "model_id": "a4e044d097854f409ee6687854894027",
       "version_major": 2,
       "version_minor": 0
      },
      "text/plain": [
       "  0%|          | 0/1 [00:00<?, ?it/s]"
      ]
     },
     "metadata": {},
     "output_type": "display_data"
    },
    {
     "name": "stdout",
     "output_type": "stream",
     "text": [
      "torch.Size([10, 1, 16, 16])\n",
      "torch.float32\n",
      "loss: 0.327338  [    0/   10]\n",
      "Test Error: \n",
      " Avg loss: 0.001713 \n",
      "\n"
     ]
    },
    {
     "data": {
      "application/vnd.jupyter.widget-view+json": {
       "model_id": "a0851cb32de0475e97e1a14bf9fc890b",
       "version_major": 2,
       "version_minor": 0
      },
      "text/plain": [
       "  0%|          | 0/1 [00:00<?, ?it/s]"
      ]
     },
     "metadata": {},
     "output_type": "display_data"
    },
    {
     "name": "stdout",
     "output_type": "stream",
     "text": [
      "torch.Size([10, 1, 16, 16])\n",
      "torch.float32\n",
      "loss: 0.326920  [    0/   10]\n",
      "Test Error: \n",
      " Avg loss: 0.001752 \n",
      "\n"
     ]
    },
    {
     "data": {
      "application/vnd.jupyter.widget-view+json": {
       "model_id": "5da75f75829a4597a244978a3510e9a7",
       "version_major": 2,
       "version_minor": 0
      },
      "text/plain": [
       "  0%|          | 0/1 [00:00<?, ?it/s]"
      ]
     },
     "metadata": {},
     "output_type": "display_data"
    },
    {
     "name": "stdout",
     "output_type": "stream",
     "text": [
      "torch.Size([10, 1, 16, 16])\n",
      "torch.float32\n",
      "loss: 0.326531  [    0/   10]\n",
      "Test Error: \n",
      " Avg loss: 0.001791 \n",
      "\n"
     ]
    },
    {
     "data": {
      "application/vnd.jupyter.widget-view+json": {
       "model_id": "6e36912218914923a353628c138bf482",
       "version_major": 2,
       "version_minor": 0
      },
      "text/plain": [
       "  0%|          | 0/1 [00:00<?, ?it/s]"
      ]
     },
     "metadata": {},
     "output_type": "display_data"
    },
    {
     "name": "stdout",
     "output_type": "stream",
     "text": [
      "torch.Size([10, 1, 16, 16])\n",
      "torch.float32\n",
      "loss: 0.326178  [    0/   10]\n",
      "Test Error: \n",
      " Avg loss: 0.001832 \n",
      "\n"
     ]
    },
    {
     "data": {
      "application/vnd.jupyter.widget-view+json": {
       "model_id": "7cd91240705a4c04bc6e45a871bc3f79",
       "version_major": 2,
       "version_minor": 0
      },
      "text/plain": [
       "  0%|          | 0/1 [00:00<?, ?it/s]"
      ]
     },
     "metadata": {},
     "output_type": "display_data"
    },
    {
     "name": "stdout",
     "output_type": "stream",
     "text": [
      "torch.Size([10, 1, 16, 16])\n",
      "torch.float32\n",
      "loss: 0.325869  [    0/   10]\n",
      "Test Error: \n",
      " Avg loss: 0.001873 \n",
      "\n"
     ]
    }
   ],
   "source": [
    "epochs = 20\n",
    "train_losses = []\n",
    "val_losses = []\n",
    "for t in trange(epochs, file=sys.stdout):\n",
    "    trainf(train, model, loss_fn, optimizer)\n",
    "    testf(test, model, loss_fn)\n",
    "torch.save(model.state_dict(), 'nn.torch')"
   ]
  },
  {
   "cell_type": "code",
   "execution_count": 18,
   "metadata": {
    "collapsed": false
   },
   "outputs": [
    {
     "data": {
      "image/png": "[encoded data removed]",
      "text/plain": [
       "<Figure size 432x288 with 1 Axes>"
      ]
     },
     "metadata": {
      "needs_background": "light"
     },
     "output_type": "display_data"
    }
   ],
   "source": [
    "plt.plot(train_losses, label='Training loss')\n",
    "plt.plot(val_losses, label='Validation loss')\n",
    "plt.legend()\n",
    "plt.show()"
   ]
  },
  {
   "cell_type": "code",
   "execution_count": null,
   "metadata": {},
   "outputs": [],
   "source": []
  }
 ],
 "metadata": {
  "kernelspec": {
   "display_name": "Python 3.9.12 ('base')",
   "language": "python",
   "name": "python3"
  },
  "language_info": {
   "codemirror_mode": {
    "name": "ipython",
    "version": 3
   },
   "file_extension": ".py",
   "mimetype": "text/x-python",
   "name": "python",
   "nbconvert_exporter": "python",
   "pygments_lexer": "ipython3",
   "version": "3.9.12"
  },
  "vscode": {
   "interpreter": {
    "hash": "9d8a2aa56706f0475aa983bd88b54765f20e6e6d70a842875d22122789babd85"
   }
  }
 },
 "nbformat": 4,
 "nbformat_minor": 0
}
