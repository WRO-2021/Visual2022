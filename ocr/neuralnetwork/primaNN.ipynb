{
 "cells": [
  {
   "cell_type": "markdown",
   "metadata": {
    "collapsed": false
   },
   "source": [
    "# Prima prova di neural network"
   ]
  },
  {
   "cell_type": "code",
   "execution_count": null,
   "metadata": {
    "collapsed": false
   },
   "outputs": [],
   "source": [
    "import torch\n",
    "from torch import nn\n",
    "from torch.utils.data import DataLoader, TensorDataset, Dataset\n",
    "#from tqdm.notebook import tqdm, trange\n",
    "from tqdm.auto import tqdm, trange\n",
    "import pandas as pd\n",
    "import numpy as np\n",
    "from sklearn.model_selection import train_test_split\n",
    "from skimage.io import imread\n",
    "from copy import deepcopy\n",
    "import matplotlib.pyplot as plt\n",
    "from sklearn import preprocessing\n",
    "import pickle\n",
    "import json\n",
    "import sys\n",
    "import time"
   ]
  },
  {
   "cell_type": "markdown",
   "metadata": {
    "collapsed": false
   },
   "source": [
    "prendo i dati, li leggo e li splitto"
   ]
  },
  {
   "cell_type": "code",
   "execution_count": null,
   "metadata": {
    "collapsed": false
   },
   "outputs": [],
   "source": [
    "train = None\n",
    "with open('../data/images/data.json', 'r') as f:\n",
    "    train = json.load(f)\n",
    "labels = {}\n",
    "train_img = []\n",
    "y = []\n",
    "for img_name, type in tqdm(train.items()):\n",
    "    labels[type] = True\n",
    "    y.append(type)\n",
    "    image_path = '../data/' + str(img_name)\n",
    "    img = imread(image_path, as_gray=True)\n",
    "    # normalizing the pixel values\n",
    "    img /= 255.0\n",
    "    # converting the type of pixel to float 32\n",
    "    img = img.astype('float32')\n",
    "    train_img.append(img)\n",
    "\n",
    "\n",
    "numLabel = len(labels)\n",
    "# converting the list to numpy array\n",
    "X = np.array(train_img)\n",
    "y = np.array(y)"
   ]
  },
  {
   "attachments": {},
   "cell_type": "markdown",
   "metadata": {},
   "source": [
    "One hot encoding"
   ]
  },
  {
   "cell_type": "code",
   "execution_count": null,
   "metadata": {},
   "outputs": [],
   "source": [
    "oneHot = False"
   ]
  },
  {
   "cell_type": "code",
   "execution_count": null,
   "metadata": {},
   "outputs": [],
   "source": [
    "if oneHot:\n",
    "    one = preprocessing.OneHotEncoder()\n",
    "    pickle.dump(one, open('oneHotEncoder.pickle', 'wb'))\n",
    "    y = one.fit_transform(y.reshape(-1,1)).toarray()\n",
    "else:\n",
    "    le = preprocessing.LabelEncoder()\n",
    "    pickle.dump(le, open('labelEncoder.pickle', 'wb'))\n",
    "    y = le.fit_transform(y)"
   ]
  },
  {
   "cell_type": "code",
   "execution_count": null,
   "metadata": {
    "collapsed": false
   },
   "outputs": [],
   "source": [
    "X_train, X_test, y_train, y_test = train_test_split(X, y, random_state=42, test_size=0.15)\n",
    "\n",
    "#X_train = X_train.reshape(len(X), 16, 16)\n",
    "X_train  = torch.from_numpy(X_train)\n",
    "X_test = torch.from_numpy(X_test)\n",
    "\n",
    "# converting the target into torch format\n",
    "y_train = y_train.astype(int)\n",
    "y_train = torch.from_numpy(y_train)\n",
    "y_test = y_test.astype(int)\n",
    "y_test = torch.from_numpy(y_test)\n",
    "\n",
    "# shape of training data\n",
    "X_train.shape, y_train.shape"
   ]
  },
  {
   "cell_type": "code",
   "execution_count": null,
   "metadata": {},
   "outputs": [],
   "source": [
    "X_train = X_train.unsqueeze(1)\n",
    "X_test = X_test.unsqueeze(1)\n",
    "y_test = y_test.type(torch.LongTensor)\n",
    "y_train = y_train.type(torch.LongTensor)"
   ]
  },
  {
   "cell_type": "code",
   "execution_count": null,
   "metadata": {
    "collapsed": false
   },
   "outputs": [],
   "source": [
    "test = TensorDataset(X_test, y_test)\n",
    "train = TensorDataset(X_train, y_train)"
   ]
  },
  {
   "cell_type": "code",
   "execution_count": null,
   "metadata": {},
   "outputs": [],
   "source": []
  },
  {
   "cell_type": "markdown",
   "metadata": {
    "collapsed": false
   },
   "source": [
    "creo i batch, randomizzando i dati, con un dataloader"
   ]
  },
  {
   "cell_type": "code",
   "execution_count": null,
   "metadata": {
    "collapsed": false
   },
   "outputs": [],
   "source": [
    "batch_size = 50\n",
    "\n",
    "# Create data loaders.\n",
    "test = DataLoader(test, batch_size=batch_size, shuffle=True)\n",
    "train = DataLoader(train, batch_size=batch_size, shuffle=True)\n",
    "\n",
    "for X, y in test:\n",
    "    print(f\"Shape of X : {X.shape}\")\n",
    "    print(f\"Shape of y: {y.shape} {y.dtype}\")\n",
    "    break"
   ]
  },
  {
   "cell_type": "markdown",
   "metadata": {
    "collapsed": false
   },
   "source": [
    "# creo la neural network"
   ]
  },
  {
   "cell_type": "code",
   "execution_count": null,
   "metadata": {
    "collapsed": false
   },
   "outputs": [],
   "source": [
    "device = \"cuda\" if torch.cuda.is_available() else \"cpu\"\n",
    "print(f\"Using {device} device\")"
   ]
  },
  {
   "cell_type": "code",
   "execution_count": null,
   "metadata": {
    "collapsed": false
   },
   "outputs": [],
   "source": [
    "# Define model\n",
    "class NeuralNetwork(nn.Module):\n",
    "    def __init__(self, numLabel):\n",
    "        super(NeuralNetwork, self).__init__()\n",
    "        #self.flatten = nn.Flatten()\n",
    "        # take in input resistance, age, heater_r and heater_V\n",
    "        self.linear_relu_stack = nn.Sequential(\n",
    "            # Defining a 2D convolution layer\n",
    "            nn.Conv2d(in_channels=1, out_channels=20, kernel_size=(5,5)),\n",
    "            nn.ReLU(inplace=True),\n",
    "            nn.MaxPool2d(kernel_size=(2,2), stride=(2,2)),\n",
    "            # second 2D convolution layer\n",
    "            nn.Conv2d(in_channels=20, out_channels=50, kernel_size=(5,5)),\n",
    "            nn.ReLU(inplace=True),\n",
    "            nn.MaxPool2d(kernel_size=(2,2), stride=(2,2)),\n",
    "        )\n",
    "\n",
    "        self.linear_layers = nn.Sequential(\n",
    "            nn.Flatten(),\n",
    "            # https://madebyollin.github.io/convnet-calculator/\n",
    "            nn.Linear(50, numLabel),\n",
    "            nn.LogSoftmax(dim=1)\n",
    "        )\n",
    "\n",
    "\n",
    "    def forward(self, x):\n",
    "        #x = self.flatten(x)\n",
    "        logits = self.linear_relu_stack(x)\n",
    "        logits = self.linear_layers(logits)\n",
    "        return logits\n"
   ]
  },
  {
   "cell_type": "code",
   "execution_count": null,
   "metadata": {
    "collapsed": false
   },
   "outputs": [],
   "source": [
    "model = NeuralNetwork(numLabel=numLabel).to(device)\n",
    "print(model)"
   ]
  },
  {
   "cell_type": "code",
   "execution_count": null,
   "metadata": {
    "collapsed": false
   },
   "outputs": [],
   "source": [
    "#loss_fn = nn.MSELoss()\n",
    "#loss_fn = nn.L1Loss()\n",
    "#optimizer = torch.optim.SGD(model.parameters(), lr=1e-7, momentum=0.9)\n",
    "LEARNING_RATE = 1e-3\n",
    "optimizer = torch.optim.Adam(model.parameters(), lr=LEARNING_RATE)\n",
    "#loss_fn = nn.CrossEntropyLoss()\n",
    "loss_fn = nn.NLLLoss()"
   ]
  },
  {
   "cell_type": "code",
   "execution_count": null,
   "metadata": {
    "collapsed": false
   },
   "outputs": [],
   "source": [
    "train_losses = []\n",
    "def trainf(dataloader, model, loss_fn, optimizer):\n",
    "    global best_model\n",
    "    best_loss = float(\"inf\")\n",
    "    size = len(dataloader.dataset)\n",
    "    #model.double()\n",
    "    model.train()\n",
    "    for batch , (X, Y) in tqdm(enumerate(dataloader), leave=False, total=len(dataloader), position=1, file=sys.stdout):\n",
    "        gas_loss = [([],[]) for _ in range(5)]\n",
    "        X, Y = X.to(device), Y.to(device)\n",
    "        loss = float(\"inf\")\n",
    "        optimizer.zero_grad()\n",
    "        # Compute prediction error\n",
    "        #output = torch.argmax(X, dim=1).float()\n",
    "        pred = model(X)\n",
    "        loss = loss_fn(pred,Y)\n",
    "        loss.backward()\n",
    "        # Backpropagation\n",
    "        optimizer.step()\n",
    "\n",
    "        if loss < best_loss:\n",
    "            best_loss = loss\n",
    "            best_model = deepcopy(model)\n",
    "\n",
    "        if batch % 100 == 0:\n",
    "            loss, current = loss.item(), batch * len(X)\n",
    "            train_losses.append(loss)\n",
    "            tqdm.write(f\"loss: {loss:>7f}  [{current:>5d}/{size:>5d}]\")"
   ]
  },
  {
   "cell_type": "code",
   "execution_count": null,
   "metadata": {
    "collapsed": false
   },
   "outputs": [],
   "source": [
    "def testf(dataloader, model, loss_fn):\n",
    "    size = len(dataloader.dataset)\n",
    "    num_batches = len(dataloader)\n",
    "    model.eval()\n",
    "    test_loss, correct = 0, 0\n",
    "    with torch.no_grad():\n",
    "        gas_avg_loss = [0 for _ in range(5)]\n",
    "        for X, Y in dataloader:\n",
    "            gas_loss = [([],[]) for _ in range(5)]\n",
    "            X, Y = X.to(device), Y.to(device)\n",
    "            pred = model(X)\n",
    "            for i, (gas, y_lin) in enumerate(zip(pred, Y)):\n",
    "                gas_loss[i][0].append(y_lin)\n",
    "                gas_loss[i][1].append(gas)\n",
    "            test_loss += loss_fn(pred, Y).item()\n",
    "    test_loss /= num_batches * batch_size\n",
    "    tqdm.write(f\"Test Error: \\n Avg loss: {test_loss:>8f} \\n\")\n"
   ]
  },
  {
   "cell_type": "code",
   "execution_count": null,
   "metadata": {
    "collapsed": false
   },
   "outputs": [],
   "source": [
    "epochs = 20\n",
    "train_losses = []\n",
    "val_losses = []\n",
    "for t in trange(epochs, file=sys.stdout):\n",
    "    #print(f\"Epoch {t+1}\\n-------------------------------\")\n",
    "    trainf(train, model, loss_fn, optimizer)\n",
    "    testf(test, model, loss_fn)\n",
    "#print(\"Done!\")\n",
    "torch.save(model, 'nn.torch')"
   ]
  },
  {
   "cell_type": "code",
   "execution_count": null,
   "metadata": {
    "collapsed": false
   },
   "outputs": [],
   "source": [
    "plt.plot(train_losses, label='Training loss')\n",
    "plt.plot(val_losses, label='Validation loss')\n",
    "plt.legend()\n",
    "plt.show()"
   ]
  }
 ],
 "metadata": {
  "kernelspec": {
   "display_name": "Python 3.9.12 ('base')",
   "language": "python",
   "name": "python3"
  },
  "language_info": {
   "codemirror_mode": {
    "name": "ipython",
    "version": 3
   },
   "file_extension": ".py",
   "mimetype": "text/x-python",
   "name": "python",
   "nbconvert_exporter": "python",
   "pygments_lexer": "ipython3",
   "version": "3.9.12"
  },
  "vscode": {
   "interpreter": {
    "hash": "9d8a2aa56706f0475aa983bd88b54765f20e6e6d70a842875d22122789babd85"
   }
  }
 },
 "nbformat": 4,
 "nbformat_minor": 0
}
